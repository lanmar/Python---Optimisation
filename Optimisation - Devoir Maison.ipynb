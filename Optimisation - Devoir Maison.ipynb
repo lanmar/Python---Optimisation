{
 "cells": [
  {
   "cell_type": "markdown",
   "metadata": {},
   "source": [
    "# Enoncé\n",
    "\n",
    "Tester les codes vus en cours (dans les Numerical Tours, en particulier Ridge et/ou Lasso et/ou multilayer perceptron et/ou SGD) sur votre propre jeu de données, pour un problème de régression ou de classification. \n",
    "Ecrire un petit rapport résumant vos observations sur les résultats obtenus, en prenant un soin particulier pour le choix des paramètres (typiquement par validation croisée)."
   ]
  },
  {
   "cell_type": "markdown",
   "metadata": {},
   "source": [
    "# Chargement des librairies et des données"
   ]
  },
  {
   "cell_type": "code",
   "execution_count": 1,
   "metadata": {},
   "outputs": [],
   "source": [
    "# coding: utf-8\n",
    "%matplotlib inline  \n",
    "import matplotlib.pyplot as plt\n",
    "import numpy as np\n",
    "import pandas as pd\n",
    "from sklearn import linear_model\n",
    "from sklearn import model_selection\n",
    "from sklearn import preprocessing\n",
    "\n",
    "import warnings\n",
    "warnings.filterwarnings(action='ignore')\n",
    "\n",
    "seed = 42"
   ]
  },
  {
   "cell_type": "code",
   "execution_count": 2,
   "metadata": {},
   "outputs": [],
   "source": [
    "names = ['state','county','community','communityname','fold','population','householdsize','racepctblack','racePctWhite','racePctAsian','racePctHisp','agePct12t21','agePct12t29','gePct16t24','agePct65up','numbUrban','pctUrban','medIncome','pctWWage','pctWFarmSelf','pctWInvInc','pctWSocSec','pctWPubAsst','pctWRetire','medFamInc','perCapInc','whitePerCap','blackPerCap','indianPerCap','AsianPerCap','OtherPerCap','HispPerCap','NumUnderPov','PctPopUnderPov','PctLess9thGrade','PctNotHSGrad','PctBSorMore','PctUnemployed','PctEmploy','PctEmplManu','PctEmplProfServ','PctOccupManu','PctOccupMgmtProf','MalePctDivorce','MalePctNevMarr','FemalePctDiv','TotalPctDiv','PersPerFam','PctFam2Par','PctKids2Par','PctYoungKids2Par','PctTeen2Par','PctWorkMomYoungKids','PctWorkMom','NumIlleg','PctIlleg','NumImmig','PctImmigRecent','PctImmigRec5','PctImmigRec8','PctImmigRec10','PctRecentImmig','PctRecImmig5','PctRecImmig8','PctRecImmig10','PctSpeakEnglOnly','PctNotSpeakEnglWell','PctLargHouseFam','PctLargHouseOccup','PersPerOccupHous','PersPerOwnOccHous','PersPerRentOccHous','PctPersOwnOccup','PctPersDenseHous','PctHousLess3BR','MedNumBR','HousVacant','PctHousOccup','PctHousOwnOcc','PctVacantBoarded','PctVacMore6Mos','MedYrHousBuilt','PctHousNoPhone','PctWOFullPlumb','OwnOccLowQuart','OwnOccMedVal','OwnOccHiQuart','RentLowQ','RentMedian','RentHighQ','MedRent','MedRentPctHousInc','MedOwnCostPctInc','MedOwnCostPctIncNoMtg','NumInShelters','NumStreet','PctForeignBorn','PctBornSameState','PctSameHouse85','PctSameCity85','PctSameState85','LemasSwornFT','LemasSwFTPerPop','LemasSwFTFieldOps','LemasSwFTFieldPerPop','LemasTotalReq','LemasTotReqPerPop','PolicReqPerOffic','PolicPerPop','RacialMatchCommPol','PctPolicWhite','PctPolicBlack','PctPolicHisp','PctPolicAsian','PctPolicMinor','OfficAssgnDrugUnits','NumKindsDrugsSeiz','PolicAveOTWorked','LandArea','PopDens','PctUsePubTrans','PolicCars','PolicOperBudg','LemasPctPolicOnPatr','LemasGangUnitDeploy','LemasPctOfficDrugUn','PolicBudgPerPop','ViolentCrimesPerPop']"
   ]
  },
  {
   "cell_type": "code",
   "execution_count": 3,
   "metadata": {},
   "outputs": [],
   "source": [
    "raw_data = pd.read_csv('communities.data', delimiter=',', header=None, names=names, na_values='?')"
   ]
  },
  {
   "cell_type": "code",
   "execution_count": 4,
   "metadata": {},
   "outputs": [
    {
     "data": {
      "text/html": [
       "<div>\n",
       "<style scoped>\n",
       "    .dataframe tbody tr th:only-of-type {\n",
       "        vertical-align: middle;\n",
       "    }\n",
       "\n",
       "    .dataframe tbody tr th {\n",
       "        vertical-align: top;\n",
       "    }\n",
       "\n",
       "    .dataframe thead th {\n",
       "        text-align: right;\n",
       "    }\n",
       "</style>\n",
       "<table border=\"1\" class=\"dataframe\">\n",
       "  <thead>\n",
       "    <tr style=\"text-align: right;\">\n",
       "      <th></th>\n",
       "      <th>state</th>\n",
       "      <th>county</th>\n",
       "      <th>community</th>\n",
       "      <th>communityname</th>\n",
       "      <th>fold</th>\n",
       "      <th>population</th>\n",
       "      <th>householdsize</th>\n",
       "      <th>racepctblack</th>\n",
       "      <th>racePctWhite</th>\n",
       "      <th>racePctAsian</th>\n",
       "      <th>...</th>\n",
       "      <th>LandArea</th>\n",
       "      <th>PopDens</th>\n",
       "      <th>PctUsePubTrans</th>\n",
       "      <th>PolicCars</th>\n",
       "      <th>PolicOperBudg</th>\n",
       "      <th>LemasPctPolicOnPatr</th>\n",
       "      <th>LemasGangUnitDeploy</th>\n",
       "      <th>LemasPctOfficDrugUn</th>\n",
       "      <th>PolicBudgPerPop</th>\n",
       "      <th>ViolentCrimesPerPop</th>\n",
       "    </tr>\n",
       "  </thead>\n",
       "  <tbody>\n",
       "    <tr>\n",
       "      <th>0</th>\n",
       "      <td>8</td>\n",
       "      <td>NaN</td>\n",
       "      <td>NaN</td>\n",
       "      <td>Lakewoodcity</td>\n",
       "      <td>1</td>\n",
       "      <td>0.19</td>\n",
       "      <td>0.33</td>\n",
       "      <td>0.02</td>\n",
       "      <td>0.90</td>\n",
       "      <td>0.12</td>\n",
       "      <td>...</td>\n",
       "      <td>0.12</td>\n",
       "      <td>0.26</td>\n",
       "      <td>0.20</td>\n",
       "      <td>0.06</td>\n",
       "      <td>0.04</td>\n",
       "      <td>0.9</td>\n",
       "      <td>0.5</td>\n",
       "      <td>0.32</td>\n",
       "      <td>0.14</td>\n",
       "      <td>0.20</td>\n",
       "    </tr>\n",
       "    <tr>\n",
       "      <th>1</th>\n",
       "      <td>53</td>\n",
       "      <td>NaN</td>\n",
       "      <td>NaN</td>\n",
       "      <td>Tukwilacity</td>\n",
       "      <td>1</td>\n",
       "      <td>0.00</td>\n",
       "      <td>0.16</td>\n",
       "      <td>0.12</td>\n",
       "      <td>0.74</td>\n",
       "      <td>0.45</td>\n",
       "      <td>...</td>\n",
       "      <td>0.02</td>\n",
       "      <td>0.12</td>\n",
       "      <td>0.45</td>\n",
       "      <td>NaN</td>\n",
       "      <td>NaN</td>\n",
       "      <td>NaN</td>\n",
       "      <td>NaN</td>\n",
       "      <td>0.00</td>\n",
       "      <td>NaN</td>\n",
       "      <td>0.67</td>\n",
       "    </tr>\n",
       "    <tr>\n",
       "      <th>2</th>\n",
       "      <td>24</td>\n",
       "      <td>NaN</td>\n",
       "      <td>NaN</td>\n",
       "      <td>Aberdeentown</td>\n",
       "      <td>1</td>\n",
       "      <td>0.00</td>\n",
       "      <td>0.42</td>\n",
       "      <td>0.49</td>\n",
       "      <td>0.56</td>\n",
       "      <td>0.17</td>\n",
       "      <td>...</td>\n",
       "      <td>0.01</td>\n",
       "      <td>0.21</td>\n",
       "      <td>0.02</td>\n",
       "      <td>NaN</td>\n",
       "      <td>NaN</td>\n",
       "      <td>NaN</td>\n",
       "      <td>NaN</td>\n",
       "      <td>0.00</td>\n",
       "      <td>NaN</td>\n",
       "      <td>0.43</td>\n",
       "    </tr>\n",
       "    <tr>\n",
       "      <th>3</th>\n",
       "      <td>34</td>\n",
       "      <td>5.0</td>\n",
       "      <td>81440.0</td>\n",
       "      <td>Willingborotownship</td>\n",
       "      <td>1</td>\n",
       "      <td>0.04</td>\n",
       "      <td>0.77</td>\n",
       "      <td>1.00</td>\n",
       "      <td>0.08</td>\n",
       "      <td>0.12</td>\n",
       "      <td>...</td>\n",
       "      <td>0.02</td>\n",
       "      <td>0.39</td>\n",
       "      <td>0.28</td>\n",
       "      <td>NaN</td>\n",
       "      <td>NaN</td>\n",
       "      <td>NaN</td>\n",
       "      <td>NaN</td>\n",
       "      <td>0.00</td>\n",
       "      <td>NaN</td>\n",
       "      <td>0.12</td>\n",
       "    </tr>\n",
       "    <tr>\n",
       "      <th>4</th>\n",
       "      <td>42</td>\n",
       "      <td>95.0</td>\n",
       "      <td>6096.0</td>\n",
       "      <td>Bethlehemtownship</td>\n",
       "      <td>1</td>\n",
       "      <td>0.01</td>\n",
       "      <td>0.55</td>\n",
       "      <td>0.02</td>\n",
       "      <td>0.95</td>\n",
       "      <td>0.09</td>\n",
       "      <td>...</td>\n",
       "      <td>0.04</td>\n",
       "      <td>0.09</td>\n",
       "      <td>0.02</td>\n",
       "      <td>NaN</td>\n",
       "      <td>NaN</td>\n",
       "      <td>NaN</td>\n",
       "      <td>NaN</td>\n",
       "      <td>0.00</td>\n",
       "      <td>NaN</td>\n",
       "      <td>0.03</td>\n",
       "    </tr>\n",
       "    <tr>\n",
       "      <th>5</th>\n",
       "      <td>6</td>\n",
       "      <td>NaN</td>\n",
       "      <td>NaN</td>\n",
       "      <td>SouthPasadenacity</td>\n",
       "      <td>1</td>\n",
       "      <td>0.02</td>\n",
       "      <td>0.28</td>\n",
       "      <td>0.06</td>\n",
       "      <td>0.54</td>\n",
       "      <td>1.00</td>\n",
       "      <td>...</td>\n",
       "      <td>0.01</td>\n",
       "      <td>0.58</td>\n",
       "      <td>0.10</td>\n",
       "      <td>NaN</td>\n",
       "      <td>NaN</td>\n",
       "      <td>NaN</td>\n",
       "      <td>NaN</td>\n",
       "      <td>0.00</td>\n",
       "      <td>NaN</td>\n",
       "      <td>0.14</td>\n",
       "    </tr>\n",
       "    <tr>\n",
       "      <th>6</th>\n",
       "      <td>44</td>\n",
       "      <td>7.0</td>\n",
       "      <td>41500.0</td>\n",
       "      <td>Lincolntown</td>\n",
       "      <td>1</td>\n",
       "      <td>0.01</td>\n",
       "      <td>0.39</td>\n",
       "      <td>0.00</td>\n",
       "      <td>0.98</td>\n",
       "      <td>0.06</td>\n",
       "      <td>...</td>\n",
       "      <td>0.05</td>\n",
       "      <td>0.08</td>\n",
       "      <td>0.06</td>\n",
       "      <td>NaN</td>\n",
       "      <td>NaN</td>\n",
       "      <td>NaN</td>\n",
       "      <td>NaN</td>\n",
       "      <td>0.00</td>\n",
       "      <td>NaN</td>\n",
       "      <td>0.03</td>\n",
       "    </tr>\n",
       "    <tr>\n",
       "      <th>7</th>\n",
       "      <td>6</td>\n",
       "      <td>NaN</td>\n",
       "      <td>NaN</td>\n",
       "      <td>Selmacity</td>\n",
       "      <td>1</td>\n",
       "      <td>0.01</td>\n",
       "      <td>0.74</td>\n",
       "      <td>0.03</td>\n",
       "      <td>0.46</td>\n",
       "      <td>0.20</td>\n",
       "      <td>...</td>\n",
       "      <td>0.01</td>\n",
       "      <td>0.33</td>\n",
       "      <td>0.00</td>\n",
       "      <td>NaN</td>\n",
       "      <td>NaN</td>\n",
       "      <td>NaN</td>\n",
       "      <td>NaN</td>\n",
       "      <td>0.00</td>\n",
       "      <td>NaN</td>\n",
       "      <td>0.55</td>\n",
       "    </tr>\n",
       "    <tr>\n",
       "      <th>8</th>\n",
       "      <td>21</td>\n",
       "      <td>NaN</td>\n",
       "      <td>NaN</td>\n",
       "      <td>Hendersoncity</td>\n",
       "      <td>1</td>\n",
       "      <td>0.03</td>\n",
       "      <td>0.34</td>\n",
       "      <td>0.20</td>\n",
       "      <td>0.84</td>\n",
       "      <td>0.02</td>\n",
       "      <td>...</td>\n",
       "      <td>0.04</td>\n",
       "      <td>0.17</td>\n",
       "      <td>0.04</td>\n",
       "      <td>NaN</td>\n",
       "      <td>NaN</td>\n",
       "      <td>NaN</td>\n",
       "      <td>NaN</td>\n",
       "      <td>0.00</td>\n",
       "      <td>NaN</td>\n",
       "      <td>0.53</td>\n",
       "    </tr>\n",
       "    <tr>\n",
       "      <th>9</th>\n",
       "      <td>29</td>\n",
       "      <td>NaN</td>\n",
       "      <td>NaN</td>\n",
       "      <td>Claytoncity</td>\n",
       "      <td>1</td>\n",
       "      <td>0.01</td>\n",
       "      <td>0.40</td>\n",
       "      <td>0.06</td>\n",
       "      <td>0.87</td>\n",
       "      <td>0.30</td>\n",
       "      <td>...</td>\n",
       "      <td>0.00</td>\n",
       "      <td>0.47</td>\n",
       "      <td>0.11</td>\n",
       "      <td>NaN</td>\n",
       "      <td>NaN</td>\n",
       "      <td>NaN</td>\n",
       "      <td>NaN</td>\n",
       "      <td>0.00</td>\n",
       "      <td>NaN</td>\n",
       "      <td>0.15</td>\n",
       "    </tr>\n",
       "  </tbody>\n",
       "</table>\n",
       "<p>10 rows × 128 columns</p>\n",
       "</div>"
      ],
      "text/plain": [
       "   state  county  community        communityname  fold  population  \\\n",
       "0      8     NaN        NaN         Lakewoodcity     1        0.19   \n",
       "1     53     NaN        NaN          Tukwilacity     1        0.00   \n",
       "2     24     NaN        NaN         Aberdeentown     1        0.00   \n",
       "3     34     5.0    81440.0  Willingborotownship     1        0.04   \n",
       "4     42    95.0     6096.0    Bethlehemtownship     1        0.01   \n",
       "5      6     NaN        NaN    SouthPasadenacity     1        0.02   \n",
       "6     44     7.0    41500.0          Lincolntown     1        0.01   \n",
       "7      6     NaN        NaN            Selmacity     1        0.01   \n",
       "8     21     NaN        NaN        Hendersoncity     1        0.03   \n",
       "9     29     NaN        NaN          Claytoncity     1        0.01   \n",
       "\n",
       "   householdsize  racepctblack  racePctWhite  racePctAsian  ...  LandArea  \\\n",
       "0           0.33          0.02          0.90          0.12  ...      0.12   \n",
       "1           0.16          0.12          0.74          0.45  ...      0.02   \n",
       "2           0.42          0.49          0.56          0.17  ...      0.01   \n",
       "3           0.77          1.00          0.08          0.12  ...      0.02   \n",
       "4           0.55          0.02          0.95          0.09  ...      0.04   \n",
       "5           0.28          0.06          0.54          1.00  ...      0.01   \n",
       "6           0.39          0.00          0.98          0.06  ...      0.05   \n",
       "7           0.74          0.03          0.46          0.20  ...      0.01   \n",
       "8           0.34          0.20          0.84          0.02  ...      0.04   \n",
       "9           0.40          0.06          0.87          0.30  ...      0.00   \n",
       "\n",
       "   PopDens  PctUsePubTrans  PolicCars  PolicOperBudg  LemasPctPolicOnPatr  \\\n",
       "0     0.26            0.20       0.06           0.04                  0.9   \n",
       "1     0.12            0.45        NaN            NaN                  NaN   \n",
       "2     0.21            0.02        NaN            NaN                  NaN   \n",
       "3     0.39            0.28        NaN            NaN                  NaN   \n",
       "4     0.09            0.02        NaN            NaN                  NaN   \n",
       "5     0.58            0.10        NaN            NaN                  NaN   \n",
       "6     0.08            0.06        NaN            NaN                  NaN   \n",
       "7     0.33            0.00        NaN            NaN                  NaN   \n",
       "8     0.17            0.04        NaN            NaN                  NaN   \n",
       "9     0.47            0.11        NaN            NaN                  NaN   \n",
       "\n",
       "   LemasGangUnitDeploy  LemasPctOfficDrugUn  PolicBudgPerPop  \\\n",
       "0                  0.5                 0.32             0.14   \n",
       "1                  NaN                 0.00              NaN   \n",
       "2                  NaN                 0.00              NaN   \n",
       "3                  NaN                 0.00              NaN   \n",
       "4                  NaN                 0.00              NaN   \n",
       "5                  NaN                 0.00              NaN   \n",
       "6                  NaN                 0.00              NaN   \n",
       "7                  NaN                 0.00              NaN   \n",
       "8                  NaN                 0.00              NaN   \n",
       "9                  NaN                 0.00              NaN   \n",
       "\n",
       "   ViolentCrimesPerPop  \n",
       "0                 0.20  \n",
       "1                 0.67  \n",
       "2                 0.43  \n",
       "3                 0.12  \n",
       "4                 0.03  \n",
       "5                 0.14  \n",
       "6                 0.03  \n",
       "7                 0.55  \n",
       "8                 0.53  \n",
       "9                 0.15  \n",
       "\n",
       "[10 rows x 128 columns]"
      ]
     },
     "execution_count": 4,
     "metadata": {},
     "output_type": "execute_result"
    }
   ],
   "source": [
    "raw_data.head(10)"
   ]
  },
  {
   "cell_type": "code",
   "execution_count": 5,
   "metadata": {},
   "outputs": [
    {
     "data": {
      "text/plain": [
       "LemasSwFTFieldOps       1675\n",
       "PctPolicAsian           1675\n",
       "PolicBudgPerPop         1675\n",
       "LemasSwornFT            1675\n",
       "LemasSwFTPerPop         1675\n",
       "LemasSwFTFieldPerPop    1675\n",
       "LemasTotalReq           1675\n",
       "LemasTotReqPerPop       1675\n",
       "PolicReqPerOffic        1675\n",
       "PolicPerPop             1675\n",
       "PctPolicWhite           1675\n",
       "PctPolicBlack           1675\n",
       "PctPolicHisp            1675\n",
       "RacialMatchCommPol      1675\n",
       "PctPolicMinor           1675\n",
       "PolicCars               1675\n",
       "LemasGangUnitDeploy     1675\n",
       "OfficAssgnDrugUnits     1675\n",
       "PolicOperBudg           1675\n",
       "LemasPctPolicOnPatr     1675\n",
       "PolicAveOTWorked        1675\n",
       "NumKindsDrugsSeiz       1675\n",
       "community               1177\n",
       "county                  1174\n",
       "OtherPerCap                1\n",
       "AsianPerCap                0\n",
       "PctEmplProfServ            0\n",
       "HispPerCap                 0\n",
       "NumUnderPov                0\n",
       "PctPopUnderPov             0\n",
       "dtype: int64"
      ]
     },
     "execution_count": 5,
     "metadata": {},
     "output_type": "execute_result"
    }
   ],
   "source": [
    "raw_data.isna().sum().sort_values(axis=0, ascending = False).head(30)"
   ]
  },
  {
   "cell_type": "code",
   "execution_count": 6,
   "metadata": {},
   "outputs": [
    {
     "data": {
      "text/plain": [
       "0       103\n",
       "1675     22\n",
       "1177      1\n",
       "1174      1\n",
       "1         1\n",
       "dtype: int64"
      ]
     },
     "execution_count": 6,
     "metadata": {},
     "output_type": "execute_result"
    }
   ],
   "source": [
    "raw_data.isna().sum().value_counts()"
   ]
  },
  {
   "cell_type": "markdown",
   "metadata": {},
   "source": [
    "Nous avons donc 24 colonnes qui présentent de très nombreuses données manquantes et 1 colonne (OtherPerCap) qui ne présente qu'une donnée manquante. \n",
    "Pour faciliter notre étude, nous allons retirer les colonnes qui présentent trop de données manquantes, et retirer l'observation pour laquelle il y a 1 donnée manquante dans OtherPerCap."
   ]
  },
  {
   "cell_type": "code",
   "execution_count": 7,
   "metadata": {},
   "outputs": [
    {
     "data": {
      "text/html": [
       "<div>\n",
       "<style scoped>\n",
       "    .dataframe tbody tr th:only-of-type {\n",
       "        vertical-align: middle;\n",
       "    }\n",
       "\n",
       "    .dataframe tbody tr th {\n",
       "        vertical-align: top;\n",
       "    }\n",
       "\n",
       "    .dataframe thead th {\n",
       "        text-align: right;\n",
       "    }\n",
       "</style>\n",
       "<table border=\"1\" class=\"dataframe\">\n",
       "  <thead>\n",
       "    <tr style=\"text-align: right;\">\n",
       "      <th></th>\n",
       "      <th>state</th>\n",
       "      <th>fold</th>\n",
       "      <th>population</th>\n",
       "      <th>householdsize</th>\n",
       "      <th>racepctblack</th>\n",
       "      <th>racePctWhite</th>\n",
       "      <th>racePctAsian</th>\n",
       "      <th>racePctHisp</th>\n",
       "      <th>agePct12t21</th>\n",
       "      <th>agePct12t29</th>\n",
       "      <th>...</th>\n",
       "      <th>PctForeignBorn</th>\n",
       "      <th>PctBornSameState</th>\n",
       "      <th>PctSameHouse85</th>\n",
       "      <th>PctSameCity85</th>\n",
       "      <th>PctSameState85</th>\n",
       "      <th>LandArea</th>\n",
       "      <th>PopDens</th>\n",
       "      <th>PctUsePubTrans</th>\n",
       "      <th>LemasPctOfficDrugUn</th>\n",
       "      <th>ViolentCrimesPerPop</th>\n",
       "    </tr>\n",
       "  </thead>\n",
       "  <tbody>\n",
       "    <tr>\n",
       "      <th>0</th>\n",
       "      <td>8</td>\n",
       "      <td>1</td>\n",
       "      <td>0.19</td>\n",
       "      <td>0.33</td>\n",
       "      <td>0.02</td>\n",
       "      <td>0.90</td>\n",
       "      <td>0.12</td>\n",
       "      <td>0.17</td>\n",
       "      <td>0.34</td>\n",
       "      <td>0.47</td>\n",
       "      <td>...</td>\n",
       "      <td>0.12</td>\n",
       "      <td>0.42</td>\n",
       "      <td>0.50</td>\n",
       "      <td>0.51</td>\n",
       "      <td>0.64</td>\n",
       "      <td>0.12</td>\n",
       "      <td>0.26</td>\n",
       "      <td>0.20</td>\n",
       "      <td>0.32</td>\n",
       "      <td>0.20</td>\n",
       "    </tr>\n",
       "    <tr>\n",
       "      <th>1</th>\n",
       "      <td>53</td>\n",
       "      <td>1</td>\n",
       "      <td>0.00</td>\n",
       "      <td>0.16</td>\n",
       "      <td>0.12</td>\n",
       "      <td>0.74</td>\n",
       "      <td>0.45</td>\n",
       "      <td>0.07</td>\n",
       "      <td>0.26</td>\n",
       "      <td>0.59</td>\n",
       "      <td>...</td>\n",
       "      <td>0.21</td>\n",
       "      <td>0.50</td>\n",
       "      <td>0.34</td>\n",
       "      <td>0.60</td>\n",
       "      <td>0.52</td>\n",
       "      <td>0.02</td>\n",
       "      <td>0.12</td>\n",
       "      <td>0.45</td>\n",
       "      <td>0.00</td>\n",
       "      <td>0.67</td>\n",
       "    </tr>\n",
       "    <tr>\n",
       "      <th>2</th>\n",
       "      <td>24</td>\n",
       "      <td>1</td>\n",
       "      <td>0.00</td>\n",
       "      <td>0.42</td>\n",
       "      <td>0.49</td>\n",
       "      <td>0.56</td>\n",
       "      <td>0.17</td>\n",
       "      <td>0.04</td>\n",
       "      <td>0.39</td>\n",
       "      <td>0.47</td>\n",
       "      <td>...</td>\n",
       "      <td>0.14</td>\n",
       "      <td>0.49</td>\n",
       "      <td>0.54</td>\n",
       "      <td>0.67</td>\n",
       "      <td>0.56</td>\n",
       "      <td>0.01</td>\n",
       "      <td>0.21</td>\n",
       "      <td>0.02</td>\n",
       "      <td>0.00</td>\n",
       "      <td>0.43</td>\n",
       "    </tr>\n",
       "    <tr>\n",
       "      <th>3</th>\n",
       "      <td>34</td>\n",
       "      <td>1</td>\n",
       "      <td>0.04</td>\n",
       "      <td>0.77</td>\n",
       "      <td>1.00</td>\n",
       "      <td>0.08</td>\n",
       "      <td>0.12</td>\n",
       "      <td>0.10</td>\n",
       "      <td>0.51</td>\n",
       "      <td>0.50</td>\n",
       "      <td>...</td>\n",
       "      <td>0.19</td>\n",
       "      <td>0.30</td>\n",
       "      <td>0.73</td>\n",
       "      <td>0.64</td>\n",
       "      <td>0.65</td>\n",
       "      <td>0.02</td>\n",
       "      <td>0.39</td>\n",
       "      <td>0.28</td>\n",
       "      <td>0.00</td>\n",
       "      <td>0.12</td>\n",
       "    </tr>\n",
       "    <tr>\n",
       "      <th>4</th>\n",
       "      <td>42</td>\n",
       "      <td>1</td>\n",
       "      <td>0.01</td>\n",
       "      <td>0.55</td>\n",
       "      <td>0.02</td>\n",
       "      <td>0.95</td>\n",
       "      <td>0.09</td>\n",
       "      <td>0.05</td>\n",
       "      <td>0.38</td>\n",
       "      <td>0.38</td>\n",
       "      <td>...</td>\n",
       "      <td>0.11</td>\n",
       "      <td>0.72</td>\n",
       "      <td>0.64</td>\n",
       "      <td>0.61</td>\n",
       "      <td>0.53</td>\n",
       "      <td>0.04</td>\n",
       "      <td>0.09</td>\n",
       "      <td>0.02</td>\n",
       "      <td>0.00</td>\n",
       "      <td>0.03</td>\n",
       "    </tr>\n",
       "    <tr>\n",
       "      <th>5</th>\n",
       "      <td>6</td>\n",
       "      <td>1</td>\n",
       "      <td>0.02</td>\n",
       "      <td>0.28</td>\n",
       "      <td>0.06</td>\n",
       "      <td>0.54</td>\n",
       "      <td>1.00</td>\n",
       "      <td>0.25</td>\n",
       "      <td>0.31</td>\n",
       "      <td>0.48</td>\n",
       "      <td>...</td>\n",
       "      <td>0.70</td>\n",
       "      <td>0.42</td>\n",
       "      <td>0.49</td>\n",
       "      <td>0.73</td>\n",
       "      <td>0.64</td>\n",
       "      <td>0.01</td>\n",
       "      <td>0.58</td>\n",
       "      <td>0.10</td>\n",
       "      <td>0.00</td>\n",
       "      <td>0.14</td>\n",
       "    </tr>\n",
       "    <tr>\n",
       "      <th>6</th>\n",
       "      <td>44</td>\n",
       "      <td>1</td>\n",
       "      <td>0.01</td>\n",
       "      <td>0.39</td>\n",
       "      <td>0.00</td>\n",
       "      <td>0.98</td>\n",
       "      <td>0.06</td>\n",
       "      <td>0.02</td>\n",
       "      <td>0.30</td>\n",
       "      <td>0.37</td>\n",
       "      <td>...</td>\n",
       "      <td>0.15</td>\n",
       "      <td>0.81</td>\n",
       "      <td>0.77</td>\n",
       "      <td>0.91</td>\n",
       "      <td>0.84</td>\n",
       "      <td>0.05</td>\n",
       "      <td>0.08</td>\n",
       "      <td>0.06</td>\n",
       "      <td>0.00</td>\n",
       "      <td>0.03</td>\n",
       "    </tr>\n",
       "    <tr>\n",
       "      <th>7</th>\n",
       "      <td>6</td>\n",
       "      <td>1</td>\n",
       "      <td>0.01</td>\n",
       "      <td>0.74</td>\n",
       "      <td>0.03</td>\n",
       "      <td>0.46</td>\n",
       "      <td>0.20</td>\n",
       "      <td>1.00</td>\n",
       "      <td>0.52</td>\n",
       "      <td>0.55</td>\n",
       "      <td>...</td>\n",
       "      <td>0.59</td>\n",
       "      <td>0.58</td>\n",
       "      <td>0.52</td>\n",
       "      <td>0.79</td>\n",
       "      <td>0.78</td>\n",
       "      <td>0.01</td>\n",
       "      <td>0.33</td>\n",
       "      <td>0.00</td>\n",
       "      <td>0.00</td>\n",
       "      <td>0.55</td>\n",
       "    </tr>\n",
       "    <tr>\n",
       "      <th>8</th>\n",
       "      <td>21</td>\n",
       "      <td>1</td>\n",
       "      <td>0.03</td>\n",
       "      <td>0.34</td>\n",
       "      <td>0.20</td>\n",
       "      <td>0.84</td>\n",
       "      <td>0.02</td>\n",
       "      <td>0.00</td>\n",
       "      <td>0.38</td>\n",
       "      <td>0.45</td>\n",
       "      <td>...</td>\n",
       "      <td>0.01</td>\n",
       "      <td>0.78</td>\n",
       "      <td>0.48</td>\n",
       "      <td>0.79</td>\n",
       "      <td>0.75</td>\n",
       "      <td>0.04</td>\n",
       "      <td>0.17</td>\n",
       "      <td>0.04</td>\n",
       "      <td>0.00</td>\n",
       "      <td>0.53</td>\n",
       "    </tr>\n",
       "    <tr>\n",
       "      <th>9</th>\n",
       "      <td>29</td>\n",
       "      <td>1</td>\n",
       "      <td>0.01</td>\n",
       "      <td>0.40</td>\n",
       "      <td>0.06</td>\n",
       "      <td>0.87</td>\n",
       "      <td>0.30</td>\n",
       "      <td>0.03</td>\n",
       "      <td>0.90</td>\n",
       "      <td>0.82</td>\n",
       "      <td>...</td>\n",
       "      <td>0.22</td>\n",
       "      <td>0.42</td>\n",
       "      <td>0.34</td>\n",
       "      <td>0.23</td>\n",
       "      <td>0.09</td>\n",
       "      <td>0.00</td>\n",
       "      <td>0.47</td>\n",
       "      <td>0.11</td>\n",
       "      <td>0.00</td>\n",
       "      <td>0.15</td>\n",
       "    </tr>\n",
       "  </tbody>\n",
       "</table>\n",
       "<p>10 rows × 103 columns</p>\n",
       "</div>"
      ],
      "text/plain": [
       "   state  fold  population  householdsize  racepctblack  racePctWhite  \\\n",
       "0      8     1        0.19           0.33          0.02          0.90   \n",
       "1     53     1        0.00           0.16          0.12          0.74   \n",
       "2     24     1        0.00           0.42          0.49          0.56   \n",
       "3     34     1        0.04           0.77          1.00          0.08   \n",
       "4     42     1        0.01           0.55          0.02          0.95   \n",
       "5      6     1        0.02           0.28          0.06          0.54   \n",
       "6     44     1        0.01           0.39          0.00          0.98   \n",
       "7      6     1        0.01           0.74          0.03          0.46   \n",
       "8     21     1        0.03           0.34          0.20          0.84   \n",
       "9     29     1        0.01           0.40          0.06          0.87   \n",
       "\n",
       "   racePctAsian  racePctHisp  agePct12t21  agePct12t29  ...  PctForeignBorn  \\\n",
       "0          0.12         0.17         0.34         0.47  ...            0.12   \n",
       "1          0.45         0.07         0.26         0.59  ...            0.21   \n",
       "2          0.17         0.04         0.39         0.47  ...            0.14   \n",
       "3          0.12         0.10         0.51         0.50  ...            0.19   \n",
       "4          0.09         0.05         0.38         0.38  ...            0.11   \n",
       "5          1.00         0.25         0.31         0.48  ...            0.70   \n",
       "6          0.06         0.02         0.30         0.37  ...            0.15   \n",
       "7          0.20         1.00         0.52         0.55  ...            0.59   \n",
       "8          0.02         0.00         0.38         0.45  ...            0.01   \n",
       "9          0.30         0.03         0.90         0.82  ...            0.22   \n",
       "\n",
       "   PctBornSameState  PctSameHouse85  PctSameCity85  PctSameState85  LandArea  \\\n",
       "0              0.42            0.50           0.51            0.64      0.12   \n",
       "1              0.50            0.34           0.60            0.52      0.02   \n",
       "2              0.49            0.54           0.67            0.56      0.01   \n",
       "3              0.30            0.73           0.64            0.65      0.02   \n",
       "4              0.72            0.64           0.61            0.53      0.04   \n",
       "5              0.42            0.49           0.73            0.64      0.01   \n",
       "6              0.81            0.77           0.91            0.84      0.05   \n",
       "7              0.58            0.52           0.79            0.78      0.01   \n",
       "8              0.78            0.48           0.79            0.75      0.04   \n",
       "9              0.42            0.34           0.23            0.09      0.00   \n",
       "\n",
       "   PopDens  PctUsePubTrans  LemasPctOfficDrugUn  ViolentCrimesPerPop  \n",
       "0     0.26            0.20                 0.32                 0.20  \n",
       "1     0.12            0.45                 0.00                 0.67  \n",
       "2     0.21            0.02                 0.00                 0.43  \n",
       "3     0.39            0.28                 0.00                 0.12  \n",
       "4     0.09            0.02                 0.00                 0.03  \n",
       "5     0.58            0.10                 0.00                 0.14  \n",
       "6     0.08            0.06                 0.00                 0.03  \n",
       "7     0.33            0.00                 0.00                 0.55  \n",
       "8     0.17            0.04                 0.00                 0.53  \n",
       "9     0.47            0.11                 0.00                 0.15  \n",
       "\n",
       "[10 rows x 103 columns]"
      ]
     },
     "execution_count": 7,
     "metadata": {},
     "output_type": "execute_result"
    }
   ],
   "source": [
    "data = raw_data[np.logical_not(raw_data['OtherPerCap'].isnull())]\n",
    "data = data.loc[:,~data.isnull().any()]\n",
    "data = data.drop('communityname', axis=1) #on retire la variable texte\n",
    "data.head(10)"
   ]
  },
  {
   "cell_type": "markdown",
   "metadata": {},
   "source": [
    "On récupère nos variables explicatives pour la régression, qu'on place dans une matrice X et notre variable expliquée y à part."
   ]
  },
  {
   "cell_type": "code",
   "execution_count": 9,
   "metadata": {},
   "outputs": [],
   "source": [
    "X = data.as_matrix(data.columns[:-1])\n",
    "y_m = data.as_matrix([data.columns[-1]])\n",
    "y = y_m.flatten()"
   ]
  },
  {
   "cell_type": "code",
   "execution_count": 51,
   "metadata": {},
   "outputs": [
    {
     "name": "stdout",
     "output_type": "stream",
     "text": [
      "1993 102\n"
     ]
    }
   ],
   "source": [
    "[n,p] = X.shape\n",
    "print(n,p)"
   ]
  },
  {
   "cell_type": "code",
   "execution_count": 10,
   "metadata": {},
   "outputs": [],
   "source": [
    "X_train, X_test, y_train, y_test = \\\n",
    "    model_selection.train_test_split(X, y,\n",
    "                                    test_size=0.3, # 30% des données dans le jeu de test\n",
    "                                     random_state = seed\n",
    "                                    )"
   ]
  },
  {
   "cell_type": "code",
   "execution_count": 11,
   "metadata": {},
   "outputs": [],
   "source": [
    "std_scale = preprocessing.StandardScaler().fit(X_train)\n",
    "X_train_std = std_scale.transform(X_train)\n",
    "X_test_std = std_scale.transform(X_test)"
   ]
  },
  {
   "cell_type": "code",
   "execution_count": null,
   "metadata": {},
   "outputs": [],
   "source": [
    "m_train = y_train.mean()\n",
    "y_train_std = y_train- m_train\n",
    "y_test_std = y_test - m_train"
   ]
  },
  {
   "cell_type": "markdown",
   "metadata": {},
   "source": [
    "# Baseline : régression linéaire classique"
   ]
  },
  {
   "cell_type": "code",
   "execution_count": 39,
   "metadata": {},
   "outputs": [
    {
     "name": "stdout",
     "output_type": "stream",
     "text": [
      "0.018588204935058392\n"
     ]
    }
   ],
   "source": [
    "# On crée un modèle de régression linéaire\n",
    "lr = linear_model.LinearRegression()\n",
    "\n",
    "# On entraîne ce modèle sur les données d'entrainement\n",
    "lr.fit(X_train_std,y_train)\n",
    "\n",
    "# On récupère l'erreur de norme 2 sur le jeu de données test comme baseline\n",
    "baseline_error = np.mean((lr.predict(X_test_std) - y_test) ** 2)\n",
    "\n",
    "print(baseline_error)"
   ]
  },
  {
   "cell_type": "code",
   "execution_count": 49,
   "metadata": {},
   "outputs": [
    {
     "name": "stdout",
     "output_type": "stream",
     "text": [
      "Baseline error : 0.07234123746964062\n",
      "Relative prediction error: 0.5839318685808069\n"
     ]
    }
   ],
   "source": [
    "# On crée un modèle de régression linéaire\n",
    "lr = linear_model.LinearRegression()\n",
    "\n",
    "# On entraîne ce modèle sur les données d'entrainement\n",
    "lr.fit(X_train_std,y_train)\n",
    "\n",
    "# On récupère l'erreur de norme 2 sur le jeu de données test comme baseline\n",
    "baseline_error = np.mean((lr.predict(X_test_std) - y_test_std) ** 2)\n",
    "\n",
    "print('Baseline error :', baseline_error)\n",
    "\n",
    "\n",
    "E = np.linalg.norm(X_test_std.dot(lr.coef_)-y_test_std) / np.linalg.norm(y_test_std)\n",
    "print('Relative prediction error: ' + str(E))\n",
    "\n",
    "\n"
   ]
  },
  {
   "cell_type": "code",
   "execution_count": 44,
   "metadata": {},
   "outputs": [
    {
     "data": {
      "text/plain": [
       "array([-0.01433215, -0.00232256,  0.01581298, -0.00431417,  0.0506334 ,\n",
       "       -0.02734291, -0.006466  ,  0.00435791,  0.01693091, -0.01574122,\n",
       "       -0.03136197,  0.01090378, -0.03175955,  0.02046752, -0.04618967,\n",
       "       -0.05090748,  0.00690235, -0.02176653, -0.00275454, -0.00886184,\n",
       "       -0.01949598,  0.06239783,  0.01104478, -0.06885054, -0.00994691,\n",
       "       -0.00383974,  0.0028267 ,  0.00891571,  0.00679516,  0.00511365,\n",
       "       -0.04456133, -0.00981866,  0.00126736,  0.01292885,  0.0093336 ,\n",
       "        0.04367296, -0.0163954 , -0.00676772,  0.01726844,  0.02322655,\n",
       "        0.09036095,  0.04333923,  0.03796251, -0.10921883, -0.05581675,\n",
       "       -0.01624044, -0.01960307, -0.01533584, -0.00236731,  0.00765438,\n",
       "       -0.03383347, -0.00483362,  0.02468357, -0.01134896,  0.0085327 ,\n",
       "       -0.00102267, -0.00835834,  0.00490604, -0.00169495, -0.06406582,\n",
       "        0.1320076 , -0.08008373,  0.01051009, -0.0248354 ,  0.02507341,\n",
       "       -0.04850276,  0.12254729, -0.0042482 , -0.04554425, -0.12516523,\n",
       "        0.05136401,  0.0118259 ,  0.01074978,  0.02976596, -0.01165251,\n",
       "        0.09295823,  0.01367424, -0.01342261, -0.00053567,  0.00543537,\n",
       "        0.00378914, -0.11723715,  0.08434183,  0.0028277 , -0.04254921,\n",
       "       -0.01055148,  0.01322893,  0.06101765,  0.00502117, -0.01326454,\n",
       "       -0.01276753,  0.00788836,  0.01907896,  0.05298978,  0.00160595,\n",
       "        0.00803493,  0.00194595,  0.00758829,  0.00037157, -0.00281676,\n",
       "       -0.01028407,  0.00335832])"
      ]
     },
     "execution_count": 44,
     "metadata": {},
     "output_type": "execute_result"
    }
   ],
   "source": [
    "lr.coef_"
   ]
  },
  {
   "cell_type": "code",
   "execution_count": 45,
   "metadata": {},
   "outputs": [
    {
     "data": {
      "text/plain": [
       "array([-0.01433215, -0.00232256,  0.01581298, -0.00431417,  0.0506334 ,\n",
       "       -0.02734291, -0.006466  ,  0.00435791,  0.01693091, -0.01574122,\n",
       "       -0.03136197,  0.01090378, -0.03175955,  0.02046752, -0.04618967,\n",
       "       -0.05090748,  0.00690235, -0.02176653, -0.00275454, -0.00886184,\n",
       "       -0.01949598,  0.06239783,  0.01104478, -0.06885054, -0.00994691,\n",
       "       -0.00383974,  0.0028267 ,  0.00891571,  0.00679516,  0.00511365,\n",
       "       -0.04456133, -0.00981866,  0.00126736,  0.01292885,  0.0093336 ,\n",
       "        0.04367296, -0.0163954 , -0.00676772,  0.01726844,  0.02322655,\n",
       "        0.09036095,  0.04333923,  0.03796251, -0.10921883, -0.05581675,\n",
       "       -0.01624044, -0.01960307, -0.01533584, -0.00236731,  0.00765438,\n",
       "       -0.03383347, -0.00483362,  0.02468357, -0.01134896,  0.0085327 ,\n",
       "       -0.00102267, -0.00835834,  0.00490604, -0.00169495, -0.06406582,\n",
       "        0.1320076 , -0.08008373,  0.01051009, -0.0248354 ,  0.02507341,\n",
       "       -0.04850276,  0.12254729, -0.0042482 , -0.04554425, -0.12516523,\n",
       "        0.05136401,  0.0118259 ,  0.01074978,  0.02976596, -0.01165251,\n",
       "        0.09295823,  0.01367424, -0.01342261, -0.00053567,  0.00543537,\n",
       "        0.00378914, -0.11723715,  0.08434183,  0.0028277 , -0.04254921,\n",
       "       -0.01055148,  0.01322893,  0.06101765,  0.00502117, -0.01326454,\n",
       "       -0.01276753,  0.00788836,  0.01907896,  0.05298978,  0.00160595,\n",
       "        0.00803493,  0.00194595,  0.00758829,  0.00037157, -0.00281676,\n",
       "       -0.01028407,  0.00335832])"
      ]
     },
     "execution_count": 45,
     "metadata": {},
     "output_type": "execute_result"
    }
   ],
   "source": [
    "w"
   ]
  },
  {
   "cell_type": "markdown",
   "metadata": {},
   "source": [
    "# Régression ridge"
   ]
  },
  {
   "cell_type": "code",
   "execution_count": 13,
   "metadata": {},
   "outputs": [],
   "source": [
    "n_alphas = 200\n",
    "alphas = np.logspace(-5, 5, n_alphas)"
   ]
  },
  {
   "cell_type": "code",
   "execution_count": 14,
   "metadata": {},
   "outputs": [],
   "source": [
    "ridge = linear_model.Ridge()\n",
    "\n",
    "coefs = []\n",
    "errors = []\n",
    "for a in alphas:\n",
    "    ridge.set_params(alpha=a)\n",
    "    ridge.fit(X_train, y_train)\n",
    "    coefs.append(ridge.coef_)\n",
    "    errors.append([baseline_error, np.mean((ridge.predict(X_test) - y_test) ** 2)])"
   ]
  },
  {
   "cell_type": "code",
   "execution_count": 15,
   "metadata": {},
   "outputs": [
    {
     "data": {
      "image/png": "[encoded data removed]",
      "text/plain": [
       "<Figure size 432x288 with 1 Axes>"
      ]
     },
     "metadata": {
      "needs_background": "light"
     },
     "output_type": "display_data"
    }
   ],
   "source": [
    "ax = plt.gca()\n",
    "\n",
    "ax.plot(alphas, coefs)\n",
    "ax.set_xscale('log')\n",
    "plt.xlabel('alpha')\n",
    "plt.ylabel('weights')\n",
    "plt.title('Ridge coefficients as a function of the regularization')\n",
    "plt.axis('tight')\n",
    "plt.show()"
   ]
  },
  {
   "cell_type": "code",
   "execution_count": 16,
   "metadata": {},
   "outputs": [
    {
     "data": {
      "image/png": "[encoded data removed]",
      "text/plain": [
       "<Figure size 432x288 with 1 Axes>"
      ]
     },
     "metadata": {
      "needs_background": "light"
     },
     "output_type": "display_data"
    }
   ],
   "source": [
    "ax = plt.gca()\n",
    "\n",
    "ax.plot(alphas, errors)\n",
    "ax.set_xscale('log')\n",
    "plt.xlabel('alpha')\n",
    "plt.ylabel('error')\n",
    "plt.show()"
   ]
  },
  {
   "cell_type": "code",
   "execution_count": 17,
   "metadata": {},
   "outputs": [
    {
     "data": {
      "image/png": "[encoded data removed]",
      "text/plain": [
       "<Figure size 432x288 with 1 Axes>"
      ]
     },
     "metadata": {
      "needs_background": "light"
     },
     "output_type": "display_data"
    }
   ],
   "source": [
    "ax = plt.gca()\n",
    "\n",
    "ax.plot(alphas, errors)\n",
    "ax.set_xscale('log')\n",
    "plt.ylim(0.0184, 0.0188)\n",
    "plt.xlim(1e-4, 1e2)\n",
    "plt.xlabel('alpha')\n",
    "plt.ylabel('error')\n",
    "plt.show()"
   ]
  },
  {
   "cell_type": "code",
   "execution_count": 18,
   "metadata": {},
   "outputs": [
    {
     "data": {
      "text/plain": [
       "[0.01858820493505837, 0.018480345854644257]"
      ]
     },
     "execution_count": 18,
     "metadata": {},
     "output_type": "execute_result"
    }
   ],
   "source": [
    "min(errors)"
   ]
  },
  {
   "cell_type": "markdown",
   "metadata": {},
   "source": [
    "La première valeur correspond à l'erreur avec la régression linéaire classique et la seconde valeur correspond à l'erreur avec la régression Ridge."
   ]
  },
  {
   "cell_type": "markdown",
   "metadata": {},
   "source": [
    "# Régression Lasso"
   ]
  },
  {
   "cell_type": "code",
   "execution_count": 19,
   "metadata": {},
   "outputs": [],
   "source": [
    "n_alphas = 300\n",
    "alphas = np.logspace(-5, 1, n_alphas)\n",
    "lasso = linear_model.Lasso(fit_intercept=False)\n",
    "\n",
    "coefs = []\n",
    "errors = []\n",
    "for a in alphas:\n",
    "    lasso.set_params(alpha=a)\n",
    "    lasso.fit(X_train, y_train)\n",
    "    coefs.append(lasso.coef_)\n",
    "    errors.append([baseline_error, np.mean((lasso.predict(X_test) - y_test) ** 2)])"
   ]
  },
  {
   "cell_type": "code",
   "execution_count": 20,
   "metadata": {},
   "outputs": [
    {
     "data": {
      "image/png": "[encoded data removed]",
      "text/plain": [
       "<Figure size 432x288 with 1 Axes>"
      ]
     },
     "metadata": {
      "needs_background": "light"
     },
     "output_type": "display_data"
    }
   ],
   "source": [
    "ax = plt.gca()\n",
    "\n",
    "ax.plot(alphas, coefs)\n",
    "ax.set_xscale('log')\n",
    "plt.xlabel('alpha')\n",
    "plt.ylabel('weights')\n",
    "plt.axis('tight')\n",
    "plt.show()"
   ]
  },
  {
   "cell_type": "markdown",
   "metadata": {},
   "source": [
    "Comme on peut le voir, le lasso permet de supprimer des variables en mettant leur poids à zéro. C'est le cas si deux variables sont corrélées. L'une sera sélectionnée par le Lasso, l'autre supprimée. C'est aussi son avantage par rapport à une régression ridge qui ne fera pas de sélection de variables.\n",
    "\n",
    "On peut observer maintenant le comportement de l'erreur.\n"
   ]
  },
  {
   "cell_type": "code",
   "execution_count": 21,
   "metadata": {},
   "outputs": [
    {
     "data": {
      "image/png": "[encoded data removed]",
      "text/plain": [
       "<Figure size 432x288 with 1 Axes>"
      ]
     },
     "metadata": {
      "needs_background": "light"
     },
     "output_type": "display_data"
    }
   ],
   "source": [
    "ax = plt.gca()\n",
    "\n",
    "ax.plot(alphas, errors)\n",
    "ax.set_xscale('log')\n",
    "plt.xlabel('alpha')\n",
    "plt.ylabel('error')\n",
    "plt.axis('tight')\n",
    "plt.show()"
   ]
  },
  {
   "cell_type": "code",
   "execution_count": 22,
   "metadata": {},
   "outputs": [
    {
     "data": {
      "image/png": "[encoded data removed]",
      "text/plain": [
       "<Figure size 432x288 with 1 Axes>"
      ]
     },
     "metadata": {
      "needs_background": "light"
     },
     "output_type": "display_data"
    }
   ],
   "source": [
    "ax = plt.gca()\n",
    "\n",
    "ax.plot(alphas, errors)\n",
    "ax.set_xscale('log')\n",
    "plt.ylim(0.0184, 0.0188)\n",
    "plt.xlim(1e-5, 1e-3)\n",
    "plt.xlabel('alpha')\n",
    "plt.ylabel('error')\n",
    "#plt.axis('tight')\n",
    "plt.show()"
   ]
  },
  {
   "cell_type": "code",
   "execution_count": 23,
   "metadata": {},
   "outputs": [
    {
     "data": {
      "text/plain": [
       "[0.01858820493505837, 0.018446782360129824]"
      ]
     },
     "execution_count": 23,
     "metadata": {},
     "output_type": "execute_result"
    }
   ],
   "source": [
    "min(errors)"
   ]
  },
  {
   "cell_type": "markdown",
   "metadata": {},
   "source": [
    "####################################################\n"
   ]
  },
  {
   "cell_type": "code",
   "execution_count": 24,
   "metadata": {},
   "outputs": [],
   "source": [
    "import numpy as np\n",
    "import matplotlib.pyplot as plt\n",
    "%load_ext autoreload\n",
    "%autoreload 2"
   ]
  },
  {
   "cell_type": "code",
   "execution_count": 25,
   "metadata": {},
   "outputs": [],
   "source": [
    "#  convert to a column vector\n",
    "def MakeCol(y): return y.reshape(-1,1)\n",
    "#  convert to a row vector\n",
    "def MakeRow(y): return y.reshape(1,-1)\n",
    "# find non zero/true elements\n",
    "def find(x): return np.nonzero(x)[0]"
   ]
  },
  {
   "cell_type": "code",
   "execution_count": 30,
   "metadata": {},
   "outputs": [],
   "source": [
    "std_scale = preprocessing.StandardScaler().fit(X_train)\n",
    "X_train_std = std_scale.transform(X_train)\n",
    "X_test_std = std_scale.transform(X_test)"
   ]
  },
  {
   "cell_type": "code",
   "execution_count": 31,
   "metadata": {},
   "outputs": [
    {
     "data": {
      "text/plain": [
       "array([[ 0.80886966, -0.86967667, -0.37695344, ..., -0.55762153,\n",
       "        -0.44254596, -0.39992849],\n",
       "       [-1.38688355, -0.86967667, -0.15510699, ...,  0.42785011,\n",
       "        -0.04851968, -0.39992849],\n",
       "       [ 1.17482853, -0.52215477,  6.94397966, ...,  0.08293503,\n",
       "         0.91465565,  1.03795873],\n",
       "       ...,\n",
       "       [-1.50886984, -0.17463287, -0.45090226, ..., -0.01561213,\n",
       "        -0.66144944, -0.39992849],\n",
       "       [-1.20390411,  0.86793283, -0.30300462, ..., -0.85326303,\n",
       "        -0.53010735, -0.39992849],\n",
       "       [ 0.3209245 ,  0.17288903, -0.37695344, ...,  0.03366145,\n",
       "         2.27185727, -0.39992849]])"
      ]
     },
     "execution_count": 31,
     "metadata": {},
     "output_type": "execute_result"
    }
   ],
   "source": [
    "X_train_std"
   ]
  },
  {
   "cell_type": "code",
   "execution_count": 32,
   "metadata": {},
   "outputs": [
    {
     "data": {
      "text/plain": [
       "array([[-0.2280138 , -0.17463287,  0.06673947, ...,  2.15242548,\n",
       "         3.67283957,  0.79146378],\n",
       "       [-0.59397267,  1.21545473, -0.30300462, ..., -0.45907437,\n",
       "        -0.57388805, -0.39992849],\n",
       "       [-1.02092468, -0.86967667, -0.45090226, ..., -0.80398945,\n",
       "        -0.70523014, -0.39992849],\n",
       "       ...,\n",
       "       [-1.26489726, -0.17463287, -0.45090226, ..., -0.50834795,\n",
       "         0.12660311, -0.39992849],\n",
       "       [ 1.5407874 , -0.17463287, -0.30300462, ..., -0.6561687 ,\n",
       "        -0.48632665, -0.39992849],\n",
       "       [ 0.80886966, -0.17463287, -0.2290558 , ..., -0.01561213,\n",
       "         0.78331356, -0.39992849]])"
      ]
     },
     "execution_count": 32,
     "metadata": {},
     "output_type": "execute_result"
    }
   ],
   "source": [
    "X_test_std"
   ]
  },
  {
   "cell_type": "code",
   "execution_count": 34,
   "metadata": {},
   "outputs": [],
   "source": [
    "mX_train = X_train.mean(axis=0)\n",
    "sX_train = X_train.std(axis=0)\n",
    "X_train_std = (X_train-mX_train)/sX_train\n",
    "X_test_std = (X_test-mX_train)/sX_train"
   ]
  },
  {
   "cell_type": "code",
   "execution_count": 35,
   "metadata": {},
   "outputs": [
    {
     "data": {
      "text/plain": [
       "array([[ 0.80886966, -0.86967667, -0.37695344, ..., -0.55762153,\n",
       "        -0.44254596, -0.39992849],\n",
       "       [-1.38688355, -0.86967667, -0.15510699, ...,  0.42785011,\n",
       "        -0.04851968, -0.39992849],\n",
       "       [ 1.17482853, -0.52215477,  6.94397966, ...,  0.08293503,\n",
       "         0.91465565,  1.03795873],\n",
       "       ...,\n",
       "       [-1.50886984, -0.17463287, -0.45090226, ..., -0.01561213,\n",
       "        -0.66144944, -0.39992849],\n",
       "       [-1.20390411,  0.86793283, -0.30300462, ..., -0.85326303,\n",
       "        -0.53010735, -0.39992849],\n",
       "       [ 0.3209245 ,  0.17288903, -0.37695344, ...,  0.03366145,\n",
       "         2.27185727, -0.39992849]])"
      ]
     },
     "execution_count": 35,
     "metadata": {},
     "output_type": "execute_result"
    }
   ],
   "source": [
    "X_train_std"
   ]
  },
  {
   "cell_type": "code",
   "execution_count": 36,
   "metadata": {},
   "outputs": [
    {
     "data": {
      "text/plain": [
       "array([[-0.2280138 , -0.17463287,  0.06673947, ...,  2.15242548,\n",
       "         3.67283957,  0.79146378],\n",
       "       [-0.59397267,  1.21545473, -0.30300462, ..., -0.45907437,\n",
       "        -0.57388805, -0.39992849],\n",
       "       [-1.02092468, -0.86967667, -0.45090226, ..., -0.80398945,\n",
       "        -0.70523014, -0.39992849],\n",
       "       ...,\n",
       "       [-1.26489726, -0.17463287, -0.45090226, ..., -0.50834795,\n",
       "         0.12660311, -0.39992849],\n",
       "       [ 1.5407874 , -0.17463287, -0.30300462, ..., -0.6561687 ,\n",
       "        -0.48632665, -0.39992849],\n",
       "       [ 0.80886966, -0.17463287, -0.2290558 , ..., -0.01561213,\n",
       "         0.78331356, -0.39992849]])"
      ]
     },
     "execution_count": 36,
     "metadata": {},
     "output_type": "execute_result"
    }
   ],
   "source": [
    "X_test_std"
   ]
  },
  {
   "cell_type": "code",
   "execution_count": 37,
   "metadata": {},
   "outputs": [],
   "source": [
    "m_train = y_train.mean()\n",
    "y_train_std = y_train- m_train\n",
    "y_test_std = y_test - m_train"
   ]
  },
  {
   "cell_type": "code",
   "execution_count": 38,
   "metadata": {},
   "outputs": [
    {
     "name": "stdout",
     "output_type": "stream",
     "text": [
      "Relative prediction error: 0.5839318685808053\n"
     ]
    }
   ],
   "source": [
    "w = np.linalg.solve(X_train_std.transpose().dot(X_train_std), X_train_std.transpose().dot(y_train_std) )\n",
    "\n",
    "E = np.linalg.norm(X_test_std.dot(w)-y_test_std) / np.linalg.norm(y_test_std)\n",
    "print(( 'Relative prediction error: ' + str(E) ) );"
   ]
  },
  {
   "cell_type": "code",
   "execution_count": 42,
   "metadata": {},
   "outputs": [
    {
     "data": {
      "text/plain": [
       "array([-0.01433215, -0.00232256,  0.01581298, -0.00431417,  0.0506334 ,\n",
       "       -0.02734291, -0.006466  ,  0.00435791,  0.01693091, -0.01574122,\n",
       "       -0.03136197,  0.01090378, -0.03175955,  0.02046752, -0.04618967,\n",
       "       -0.05090748,  0.00690235, -0.02176653, -0.00275454, -0.00886184,\n",
       "       -0.01949598,  0.06239783,  0.01104478, -0.06885054, -0.00994691,\n",
       "       -0.00383974,  0.0028267 ,  0.00891571,  0.00679516,  0.00511365,\n",
       "       -0.04456133, -0.00981866,  0.00126736,  0.01292885,  0.0093336 ,\n",
       "        0.04367296, -0.0163954 , -0.00676772,  0.01726844,  0.02322655,\n",
       "        0.09036095,  0.04333923,  0.03796251, -0.10921883, -0.05581675,\n",
       "       -0.01624044, -0.01960307, -0.01533584, -0.00236731,  0.00765438,\n",
       "       -0.03383347, -0.00483362,  0.02468357, -0.01134896,  0.0085327 ,\n",
       "       -0.00102267, -0.00835834,  0.00490604, -0.00169495, -0.06406582,\n",
       "        0.1320076 , -0.08008373,  0.01051009, -0.0248354 ,  0.02507341,\n",
       "       -0.04850276,  0.12254729, -0.0042482 , -0.04554425, -0.12516523,\n",
       "        0.05136401,  0.0118259 ,  0.01074978,  0.02976596, -0.01165251,\n",
       "        0.09295823,  0.01367424, -0.01342261, -0.00053567,  0.00543537,\n",
       "        0.00378914, -0.11723715,  0.08434183,  0.0028277 , -0.04254921,\n",
       "       -0.01055148,  0.01322893,  0.06101765,  0.00502117, -0.01326454,\n",
       "       -0.01276753,  0.00788836,  0.01907896,  0.05298978,  0.00160595,\n",
       "        0.00803493,  0.00194595,  0.00758829,  0.00037157, -0.00281676,\n",
       "       -0.01028407,  0.00335832])"
      ]
     },
     "execution_count": 42,
     "metadata": {},
     "output_type": "execute_result"
    }
   ],
   "source": [
    "w"
   ]
  },
  {
   "cell_type": "code",
   "execution_count": null,
   "metadata": {},
   "outputs": [],
   "source": [
    "Lambda = .2*np.linalg.norm(X_train_std)**2;\n",
    "w = np.linalg.solve( X_train_std.transpose().dot(X_train_std) + Lambda*np.eye(p), X_train_std.transpose().dot(y_train_std) )\n",
    "u = np.linalg.solve( X_train_std.dot(X_train_std.transpose()) + Lambda*np.eye(n0), y_train_std )\n",
    "w1 = X_train_std.transpose().dot( u )\n",
    "print( ('Error (should be 0): ' + str( np.linalg.norm(w-w1)/np.linalg.norm(w) ) ) )"
   ]
  }
 ],
 "metadata": {
  "kernelspec": {
   "display_name": "Python 3",
   "language": "python",
   "name": "python3"
  },
  "language_info": {
   "codemirror_mode": {
    "name": "ipython",
    "version": 3
   },
   "file_extension": ".py",
   "mimetype": "text/x-python",
   "name": "python",
   "nbconvert_exporter": "python",
   "pygments_lexer": "ipython3",
   "version": "3.7.3"
  }
 },
 "nbformat": 4,
 "nbformat_minor": 2
}
